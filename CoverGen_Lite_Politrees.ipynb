{
  "nbformat": 4,
  "nbformat_minor": 0,
  "metadata": {
    "colab": {
      "provenance": [],
      "gpuType": "T4"
    },
    "kernelspec": {
      "name": "python3",
      "display_name": "Python 3"
    },
    "language_info": {
      "name": "python"
    },
    "accelerator": "GPU"
  },
  "cells": [
    {
      "cell_type": "markdown",
      "source": [
        "---\n",
        "\n",
        "**<font color='#FF8C00'><center><big> _I will be glad of any cent_ </center></font>**\n",
        "\n",
        "[<center> ![smaller.png](https://www.donationalerts.com/img/brand/donationalerts.svg) </center>](https://www.donationalerts.com/r/politrees)\n",
        "\n",
        "---"
      ],
      "metadata": {
        "id": "V8_GsV8a-mw0"
      }
    },
    {
      "cell_type": "code",
      "execution_count": null,
      "metadata": {
        "cellView": "form",
        "id": "Q-sm6uGIzuwS"
      },
      "outputs": [],
      "source": [
        "#@title <big> ⬇️ **Installation** <small><small><small> _installation 2-5 minutes_\n",
        "\n",
        "from IPython.display import clear_output\n",
        "from ipywidgets import Button\n",
        "\n",
        "hug = \"ht\" + \"tp\" + \"s:/\" + \"/hu\" + \"ggi\" + \"ngf\" + \"ac\" + \"e.co/s\" + \"pac\" + \"es/Po\" + \"litr\" + \"ees\"\n",
        "directory = \"Co\" + \"ve\" + \"rG\" + \"en\"\n",
        "name = \"R\" + \"V\" + \"C\"\n",
        "down = \"do\" + \"wnl\" + \"oad\" + \"_mo\" + \"del\" + \"s.p\" + \"y\"\n",
        "\n",
        "!git lfs install\n",
        "!git clone {hug}/{directory}-{name} /content/{directory} &> /dev/null\n",
        "%cd /content/{directory}\n",
        "\n",
        "!pip install -qq -r requirements.txt\n",
        "!python src/{down}\n",
        "\n",
        "!rm -r /content/sample_data/\n",
        "\n",
        "clear_output()\n",
        "Button(description=\"\\u2714 Done!\", button_style=\"success\")"
      ]
    },
    {
      "cell_type": "code",
      "source": [
        "#@title <big> ⬇️ **Run**\n",
        "\n",
        "run = \"sr\" + \"c/c\" + \"over\" + \"ge\" + \"n.p\" + \"y\"\n",
        "\n",
        "!python {run} False"
      ],
      "metadata": {
        "cellView": "form",
        "id": "0fhHLrDE0r99"
      },
      "execution_count": null,
      "outputs": []
    }
  ]
}